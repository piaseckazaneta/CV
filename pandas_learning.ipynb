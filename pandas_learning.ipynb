{
  "nbformat": 4,
  "nbformat_minor": 0,
  "metadata": {
    "colab": {
      "provenance": [],
      "authorship_tag": "ABX9TyPUUnjVfyKcdmBOByeE9I5s",
      "include_colab_link": true
    },
    "kernelspec": {
      "name": "python3",
      "display_name": "Python 3"
    },
    "language_info": {
      "name": "python"
    }
  },
  "cells": [
    {
      "cell_type": "markdown",
      "metadata": {
        "id": "view-in-github",
        "colab_type": "text"
      },
      "source": [
        "<a href=\"https://colab.research.google.com/github/piaseckazaneta/CV/blob/master/pandas_learning.ipynb\" target=\"_parent\"><img src=\"https://colab.research.google.com/assets/colab-badge.svg\" alt=\"Open In Colab\"/></a>"
      ]
    },
    {
      "cell_type": "code",
      "execution_count": 2,
      "metadata": {
        "id": "n-JJWRZ6TVxL"
      },
      "outputs": [],
      "source": [
        "import pandas as pd"
      ]
    },
    {
      "cell_type": "code",
      "source": [
        "# Tworzenie DataFrame (główna struktura danych w pandas) i Series (jedno-wymiarowa tablica)\n",
        "\n",
        "#Stwórz prosty DataFrame z danych w postaci słownika\n",
        "data = {\n",
        "    'Imię': ['Anna', 'Tomasz', 'Kasia'],\n",
        "    'Wiek': [23, 34, 28]\n",
        "}\n",
        "\n",
        "df = pd.DataFrame(data)\n",
        "\n",
        "print(df)"
      ],
      "metadata": {
        "colab": {
          "base_uri": "https://localhost:8080/"
        },
        "id": "S4kLYclZTmFO",
        "outputId": "65c9f272-01a5-4330-d929-536621a989fc"
      },
      "execution_count": null,
      "outputs": [
        {
          "output_type": "stream",
          "name": "stdout",
          "text": [
            "     Imię  Wiek\n",
            "0    Anna    23\n",
            "1  Tomasz    34\n",
            "2   Kasia    28\n"
          ]
        }
      ]
    },
    {
      "cell_type": "code",
      "source": [
        "# Tworzenie Series z listy\n",
        "\n",
        "series = pd.Series([1, 2, 3, 4, 5])\n",
        "\n",
        "print(series)"
      ],
      "metadata": {
        "colab": {
          "base_uri": "https://localhost:8080/"
        },
        "id": "05fIxBYCXVMC",
        "outputId": "1de7d81e-aade-4eb2-e808-0a187cade290"
      },
      "execution_count": null,
      "outputs": [
        {
          "output_type": "stream",
          "name": "stdout",
          "text": [
            "0    1\n",
            "1    2\n",
            "2    3\n",
            "3    4\n",
            "4    5\n",
            "dtype: int64\n"
          ]
        }
      ]
    },
    {
      "cell_type": "code",
      "source": [
        "##### Zadanie 1: Stwórz DataFrame z danymi (np. imiona, wiek, miasto) o co najmniej 5 wierszach.\n",
        "\n",
        "dane = {\n",
        "    'imie': ['Maryla', 'Basia', 'Ola', 'Jarek', 'Zuza'],\n",
        "    'wiek': [50, 32, 15, 31, 18],\n",
        "    'miasto': ['Gdynia', 'Warszawa', 'Poznan', 'Gdynia', 'Poznan']\n",
        "}\n",
        "\n",
        "df = pd.DataFrame(dane)\n",
        "\n",
        "print(df)"
      ],
      "metadata": {
        "colab": {
          "base_uri": "https://localhost:8080/"
        },
        "id": "WiLdjQ6tX6l0",
        "outputId": "360bd453-8ba5-422c-af66-58dc1bd728c4"
      },
      "execution_count": null,
      "outputs": [
        {
          "output_type": "stream",
          "name": "stdout",
          "text": [
            "     imie  wiek    miasto\n",
            "0  Maryla    50    Gdynia\n",
            "1   Basia    32  Warszawa\n",
            "2     Ola    15    Poznan\n",
            "3   Jarek    31    Gdynia\n",
            "4    Zuza    18    Poznan\n"
          ]
        }
      ]
    },
    {
      "cell_type": "code",
      "source": [
        "# Zrób przegląd danych: wyświetl pierwsze i ostatnie 3 wiersze za pomocą df.head() i df.tail().\n",
        "\n",
        "print(df.head(3))\n",
        "print(df.tail(3))"
      ],
      "metadata": {
        "colab": {
          "base_uri": "https://localhost:8080/"
        },
        "id": "sUAkrfkMa021",
        "outputId": "fc72e55d-2450-417c-fa40-eee37f1bc4d7"
      },
      "execution_count": null,
      "outputs": [
        {
          "output_type": "stream",
          "name": "stdout",
          "text": [
            "     imie  wiek    miasto\n",
            "0  Maryla    50    Gdynia\n",
            "1   Basia    32  Warszawa\n",
            "2     Ola    15    Poznan\n",
            "    imie  wiek  miasto\n",
            "2    Ola    15  Poznan\n",
            "3  Jarek    31  Gdynia\n",
            "4   Zuza    18  Poznan\n"
          ]
        }
      ]
    },
    {
      "cell_type": "code",
      "source": [
        "##### Zadanie 2 ###########\n",
        "# Stwórz DataFrame z różnymi typami danych: tekst, liczby całkowite, liczby zmiennoprzecinkowe, daty.\n",
        "# Zastosuj konwersję typów danych w kolumnach (np. zmień kolumnę z datą na typ datetime).\n",
        "# Spróbuj użyć funkcji df.dtypes i pd.to_datetime(), aby upewnić się, że odpowiednie kolumny mają właściwe typy.\n",
        "\n",
        "dane = {\n",
        "    'imie': ['Jan', 'Halina', 'Tomek'],\n",
        "    'wiek': [50, 18, 33],\n",
        "    'wzrost': [1.78, 1.64, 1.85],\n",
        "    'data_urodzenia': ['1987-07-12', '1975-09-15', '2001-01-23']\n",
        "}\n",
        "\n",
        "df = pd.DataFrame(dane)\n",
        "print(df)"
      ],
      "metadata": {
        "colab": {
          "base_uri": "https://localhost:8080/"
        },
        "id": "uZdQ2ad7bKcu",
        "outputId": "85a34622-e87a-486b-e03a-78f88a56edd7"
      },
      "execution_count": null,
      "outputs": [
        {
          "output_type": "stream",
          "name": "stdout",
          "text": [
            "     imie  wiek  wzrost data_urodzenia\n",
            "0     Jan    50    1.78     1987-07-12\n",
            "1  Halina    18    1.64     1975-09-15\n",
            "2   Tomek    33    1.85     2001-01-23\n"
          ]
        }
      ]
    },
    {
      "cell_type": "code",
      "source": [
        "df['data_urodzenia'] = pd.to_datetime(df['data_urodzenia'])\n",
        "print(df.dtypes)"
      ],
      "metadata": {
        "colab": {
          "base_uri": "https://localhost:8080/"
        },
        "id": "25vr2wbRdq6P",
        "outputId": "dbddc7cb-fcf7-4f1f-d68d-8aea789c10a4"
      },
      "execution_count": null,
      "outputs": [
        {
          "output_type": "stream",
          "name": "stdout",
          "text": [
            "imie                      object\n",
            "wiek                       int64\n",
            "wzrost                   float64\n",
            "data_urodzenia    datetime64[ns]\n",
            "dtype: object\n"
          ]
        }
      ]
    },
    {
      "cell_type": "code",
      "source": [],
      "metadata": {
        "id": "k7JZ1i6AkEgd"
      },
      "execution_count": null,
      "outputs": []
    },
    {
      "cell_type": "markdown",
      "source": [
        "Zadanie - 15.01.2025\n",
        "\n",
        "Analiza sprzedaży w sklepie internetowym\n",
        "Opis:\n",
        "\n",
        "Jesteś analitykiem w sklepie internetowym i otrzymałeś plik z danymi sprzedaży. Musisz przeprowadzić analizę, aby uzyskać konkretne wnioski biznesowe.\n",
        "\n",
        "4.Policz średnią liczbę zakupionych sztuk (Quantity) dla każdej kategorii.\n",
        "5.Wypisz pięć najdroższych pojedynczych transakcji (sortując po Price).\n",
        "6.Dodaj nową kolumnę TotalValue, która będzie zawierała całkowitą wartość transakcji (Quantity × Price).\n",
        "7.Stwórz tabelę przestawną, która pokaże łączną wartość sprzedaży (TotalValue) dla każdej kategorii w podziale na miasta.\n",
        "8.Zaplanuj promocję: znajdź produkt, który sprzedawał się najrzadziej (najmniejsza suma Quantity).\n",
        "9.Narysuj wykres przedstawiający łączną wartość sprzedaży w podziale na kategorie."
      ],
      "metadata": {
        "id": "52Ms8bP2kMhP"
      }
    },
    {
      "cell_type": "code",
      "source": [
        "data = {\n",
        "    \"OrderID\": [1, 2, 3, 4, 5, 6, 7, 8, 9, 10],\n",
        "    \"Product\": [\"Laptop\", \"Smartphone\", \"Coffee Maker\", \"Desk Chair\", \"Tablet\", \"Blender\", \"Monitor\", \"Bookshelf\", \"Vacuum Cleaner\", \"Smartphone\"],\n",
        "    \"Category\": [\"Electronics\", \"Electronics\", \"Home Appliances\", \"Furniture\", \"Electronics\", \"Home Appliances\", \"Electronics\", \"Furniture\", \"Home Appliances\", \"Electronics\"],\n",
        "    \"Date\": [\"2024-12-01\", \"2024-12-02\", \"2024-12-03\", \"2024-12-04\", \"2024-12-05\", \"2024-12-06\", \"2024-12-07\", \"2024-12-08\", \"2024-12-09\", \"2024-12-10\"],\n",
        "    \"Quantity\": [2, 1, 3, 5, 1, 2, 1, 3, 4, 1],\n",
        "    \"Price\": [1200, 800, 150, 85, 400, 120, 300, 200, 250, 800],\n",
        "    \"CustomerID\": [\"C001\", \"C002\", \"C003\", \"C004\", \"C002\", \"C003\", \"C005\", \"C004\", \"C006\", \"C002\"],\n",
        "    \"City\": [\"New York\", \"Los Angeles\", \"Chicago\", \"New York\", \"Los Angeles\", \"Chicago\", \"San Francisco\", \"New York\", \"Boston\", \"Los Angeles\"]\n",
        "}\n",
        "\n",
        "df = pd.DataFrame(data)\n",
        "df[\"Date\"] = pd.to_datetime(df[\"Date\"])  # Konwersja kolumny na typ daty"
      ],
      "metadata": {
        "id": "RUekqpJmkFgD"
      },
      "execution_count": 3,
      "outputs": []
    },
    {
      "cell_type": "code",
      "source": [
        "# 1.Oblicz łączną wartość sprzedaży dla każdej kategorii produktów.\n",
        "\n",
        "df['Total_value'] = df['Quantity']* df['Price']\n",
        "df.groupby('Category')['Total_value'].sum()"
      ],
      "metadata": {
        "id": "ptYC5zMfk0DL",
        "outputId": "c299e31a-bf55-4672-c597-1508314d0b01",
        "colab": {
          "base_uri": "https://localhost:8080/",
          "height": 209
        }
      },
      "execution_count": 4,
      "outputs": [
        {
          "output_type": "execute_result",
          "data": {
            "text/plain": [
              "Category\n",
              "Electronics        4700\n",
              "Furniture          1025\n",
              "Home Appliances    1690\n",
              "Name: Total_value, dtype: int64"
            ],
            "text/html": [
              "<div>\n",
              "<style scoped>\n",
              "    .dataframe tbody tr th:only-of-type {\n",
              "        vertical-align: middle;\n",
              "    }\n",
              "\n",
              "    .dataframe tbody tr th {\n",
              "        vertical-align: top;\n",
              "    }\n",
              "\n",
              "    .dataframe thead th {\n",
              "        text-align: right;\n",
              "    }\n",
              "</style>\n",
              "<table border=\"1\" class=\"dataframe\">\n",
              "  <thead>\n",
              "    <tr style=\"text-align: right;\">\n",
              "      <th></th>\n",
              "      <th>Total_value</th>\n",
              "    </tr>\n",
              "    <tr>\n",
              "      <th>Category</th>\n",
              "      <th></th>\n",
              "    </tr>\n",
              "  </thead>\n",
              "  <tbody>\n",
              "    <tr>\n",
              "      <th>Electronics</th>\n",
              "      <td>4700</td>\n",
              "    </tr>\n",
              "    <tr>\n",
              "      <th>Furniture</th>\n",
              "      <td>1025</td>\n",
              "    </tr>\n",
              "    <tr>\n",
              "      <th>Home Appliances</th>\n",
              "      <td>1690</td>\n",
              "    </tr>\n",
              "  </tbody>\n",
              "</table>\n",
              "</div><br><label><b>dtype:</b> int64</label>"
            ]
          },
          "metadata": {},
          "execution_count": 4
        }
      ]
    },
    {
      "cell_type": "code",
      "source": [
        "#2.Znajdź miasto z największą wartością sprzedaży i wypisz, jaka była ta wartość.\n",
        "\n",
        "df.groupby('City')['Total_value'].sum().sort_values().iloc[4]"
      ],
      "metadata": {
        "id": "6eQeulurlb4G",
        "outputId": "bb1c74af-9d58-412b-f02c-d395cdb55651",
        "colab": {
          "base_uri": "https://localhost:8080/"
        }
      },
      "execution_count": 11,
      "outputs": [
        {
          "output_type": "execute_result",
          "data": {
            "text/plain": [
              "3425"
            ]
          },
          "metadata": {},
          "execution_count": 11
        }
      ]
    },
    {
      "cell_type": "code",
      "source": [
        "# 3.Sprawdź, który klient wydał najwięcej w grudniu 2024 roku.\n",
        "\n",
        "top = df.groupby('CustomerID')['Total_value'].sum().sort_values(ascending=False)"
      ],
      "metadata": {
        "id": "tNLdSA2GnQsR"
      },
      "execution_count": 16,
      "outputs": []
    },
    {
      "cell_type": "code",
      "source": [
        "print(top.head(1))"
      ],
      "metadata": {
        "id": "WRMR3JCioyyD",
        "outputId": "e520f302-2feb-43b7-c855-dda659b90ac3",
        "colab": {
          "base_uri": "https://localhost:8080/"
        }
      },
      "execution_count": 17,
      "outputs": [
        {
          "output_type": "stream",
          "name": "stdout",
          "text": [
            "CustomerID\n",
            "C001    2400\n",
            "Name: Total_value, dtype: int64\n"
          ]
        }
      ]
    }
  ]
}